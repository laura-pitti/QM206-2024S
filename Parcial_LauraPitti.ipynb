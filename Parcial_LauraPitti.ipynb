{
  "nbformat": 4,
  "nbformat_minor": 0,
  "metadata": {
    "colab": {
      "provenance": [],
      "authorship_tag": "ABX9TyN4v2RE5cn4bS0VMM35/yam",
      "include_colab_link": true
    },
    "kernelspec": {
      "name": "python3",
      "display_name": "Python 3"
    },
    "language_info": {
      "name": "python"
    }
  },
  "cells": [
    {
      "cell_type": "markdown",
      "metadata": {
        "id": "view-in-github",
        "colab_type": "text"
      },
      "source": [
        "<a href=\"https://colab.research.google.com/github/laura-pitti/QM206-2024S/blob/main/Parcial_LauraPitti.ipynb\" target=\"_parent\"><img src=\"https://colab.research.google.com/assets/colab-badge.svg\" alt=\"Open In Colab\"/></a>"
      ]
    },
    {
      "cell_type": "markdown",
      "source": [
        "# **Problema #1**"
      ],
      "metadata": {
        "id": "F6H708dZl3pl"
      }
    },
    {
      "cell_type": "markdown",
      "source": [
        "Crear una función para calcular la concentración molar.\n",
        "\n",
        "Parámetros:\n",
        "*   Gramos (g)\n",
        "*   Volumen   (mL)\n",
        "*   Peso  Molecular  (PM)\n"
      ],
      "metadata": {
        "id": "ZyRkJ2Hb1khK"
      }
    },
    {
      "cell_type": "code",
      "source": [
        "def concentracion_molar(masa_soluto, volumen_solucion_ml, pm_soluto):\n",
        "    # Convertir volumen de ml a litros\n",
        "    volumen_solucion_l = volumen_solucion_ml / 1000\n",
        "\n",
        "    # Calcular la concentración molar\n",
        "    concentracion = masa_soluto / (pm_soluto * volumen_solucion_l)\n",
        "\n",
        "    return concentracion"
      ],
      "metadata": {
        "id": "PVQyT_9LeEYw"
      },
      "execution_count": 37,
      "outputs": []
    },
    {
      "cell_type": "markdown",
      "source": [
        "Ejemplo:\n",
        "\n",
        "¿Cuál será la concentración molar (o molaridad) de una solución de sulfuro de magnesio (MgS) que contiene 0,56 g del soluto en 50 ml de solución?"
      ],
      "metadata": {
        "id": "Zx9Px42ZeJoB"
      }
    },
    {
      "cell_type": "code",
      "source": [
        "# Datos del enunciado\n",
        "masa_soluto = 0.56  # en gramos\n",
        "volumen_solucion_ml = 50  # en mililitros\n",
        "pm_soluto = 56.38  # Peso molecular del MgS (en g/mol)\n",
        "\n",
        "# Cálculo de la concentración molar\n",
        "concentracion = concentracion_molar(masa_soluto, volumen_solucion_ml, pm_soluto)\n",
        "print(f\"La concentración molar de la solución es: {concentracion:.3f} mol/L\")"
      ],
      "metadata": {
        "colab": {
          "base_uri": "https://localhost:8080/"
        },
        "id": "XKuIXgjtee3_",
        "outputId": "6a40f46b-6cc1-4fd8-94e3-b7ae669561f6"
      },
      "execution_count": 39,
      "outputs": [
        {
          "output_type": "stream",
          "name": "stdout",
          "text": [
            "La concentración molar de la solución es: 0.199 mol/L\n"
          ]
        }
      ]
    },
    {
      "cell_type": "markdown",
      "source": [
        "# **Problema #2**"
      ],
      "metadata": {
        "id": "HvIZIUI8xnss"
      }
    },
    {
      "cell_type": "markdown",
      "source": [
        "Crear una funcion para calcular el pH de una solución de ácido fuerte, dado el parámetro de concentración de iones hidrogeniones."
      ],
      "metadata": {
        "id": "JrrmwnUwkfoY"
      }
    },
    {
      "cell_type": "code",
      "execution_count": null,
      "metadata": {
        "id": "c-Pg_mCQgG-j"
      },
      "outputs": [],
      "source": [
        "import math\n",
        "def calcular_pH(concentracion_H):\n",
        "    if concentracion_H <= 0:\n",
        "        raise ValueError(\"La concentración de iones hidrógeno debe ser mayor que cero.\")\n",
        "    pH = -math.log10(concentracion_H)\n",
        "    return pH"
      ]
    },
    {
      "cell_type": "markdown",
      "source": [
        "Ejemplo:\n",
        "\n",
        "Calcula el pH de una solución de ácido clorhídrico con una concentración de iones de hidrógeno [𝐻+] de 0.05 M."
      ],
      "metadata": {
        "id": "x4-inH5kinyG"
      }
    },
    {
      "cell_type": "code",
      "source": [
        "# Datos del enunciado\n",
        "concentracion_H = 0.05\n",
        "\n",
        "# Cálculo del pH\n",
        "pH = calcular_pH(concentracion_H)\n",
        "print(f\"El pH de la solución es: {pH}\")"
      ],
      "metadata": {
        "colab": {
          "base_uri": "https://localhost:8080/"
        },
        "id": "_yEP07TyiptB",
        "outputId": "4906a3be-95a8-4fbd-e4b1-3952f179d1c1"
      },
      "execution_count": null,
      "outputs": [
        {
          "output_type": "stream",
          "name": "stdout",
          "text": [
            "El pH de la solución es: 1.3010299956639813\n"
          ]
        }
      ]
    },
    {
      "cell_type": "markdown",
      "source": [
        "# **Problema #3**\n",
        "\n"
      ],
      "metadata": {
        "id": "6kZmwvaxzsZ0"
      }
    },
    {
      "cell_type": "markdown",
      "source": [
        "Problema de gases, calcular la masa molar de un gas ideal.\n",
        "\n",
        "Parámetros:\n",
        "\n",
        "Masa = g\n",
        "\n",
        "Volumen = L\n",
        "\n",
        "Presión = atm"
      ],
      "metadata": {
        "id": "l8kWlK48lQta"
      }
    },
    {
      "cell_type": "code",
      "source": [
        "def calcular_masa_molar(masa, volumen, presion, temperatura):\n",
        "    # Constante de los gases ideales en atm·L/mol·K\n",
        "    R = 0.0821\n",
        "    # Fórmula para la masa molar\n",
        "    masa_molar = (masa * R * temperatura) / (presion * volumen)\n",
        "    return masa_molar"
      ],
      "metadata": {
        "id": "biwl5thf0Es-"
      },
      "execution_count": null,
      "outputs": []
    },
    {
      "cell_type": "markdown",
      "source": [
        "Ejemplo:\n",
        "\n",
        "Se produce cierta reacción, produciendo un óxido de nitrógeno como gas. El gas tiene una masa de 1.211 g y ocupa un volumen de 677 mL. La temperatura en el laboratorio es 23 °C y la presión del aire es 0.987 atm. Calcular la masa molar del gas."
      ],
      "metadata": {
        "id": "OGpY6mMr0EPT"
      }
    },
    {
      "cell_type": "code",
      "source": [
        "# Datos del enunciado\n",
        "masa = 1.211           # en gramos\n",
        "volumen = 0.677        # en litros\n",
        "presion = 0.987        # en atmósferas\n",
        "temperatura = 296.15    # en Kelvin\n",
        "\n",
        "# Cálculo de la masa molar\n",
        "masa_molar = calcular_masa_molar(masa, volumen, presion, temperatura)\n",
        "print(f\"La masa molar del gas es: {masa_molar:.2f} g/mol\")"
      ],
      "metadata": {
        "colab": {
          "base_uri": "https://localhost:8080/"
        },
        "id": "VleSNwxy3fQj",
        "outputId": "04f0bca8-3740-432a-a475-472d2cd85f78"
      },
      "execution_count": null,
      "outputs": [
        {
          "output_type": "stream",
          "name": "stdout",
          "text": [
            "La masa molar del gas es: 44.06 g/mol\n"
          ]
        }
      ]
    },
    {
      "cell_type": "markdown",
      "source": [
        "# **Problema #4**"
      ],
      "metadata": {
        "id": "sgnXOBJj9Ko8"
      }
    },
    {
      "cell_type": "markdown",
      "source": [
        "Crear una función de concentración de ácido y la base conjugada para la preparación de un buffer.\n",
        "\n",
        "Parámetros:\n",
        "*  pH deseado\n",
        "*  Constate de acidez\n",
        "*  Volumen (mL) que quieren preparar\n",
        "*  Henderson\n",
        "*  Ácido monoprótico\n",
        "\n"
      ],
      "metadata": {
        "id": "6kncbiQa9Qk_"
      }
    },
    {
      "cell_type": "code",
      "source": [
        "def calcular_concentraciones_buffer(ph, ka, volumen_ml):\n",
        "    # Calcular el pKa a partir del Ka\n",
        "    pKa = -math.log10(ka)\n",
        "\n",
        "    # Usar la ecuación de Henderson-Hasselbalch\n",
        "    ratio = 10**(ph - pKa)\n",
        "\n",
        "    # Suponemos que la concentración total deseada del buffer es 1 M\n",
        "    C_total = 1  # Se puede ajustar según sea necesario\n",
        "\n",
        "    # Concentraciones de HA y A-\n",
        "    A_conc = C_total / (1 + (1 / ratio))  # [A-]\n",
        "    HA_conc = C_total - A_conc              # [HA]\n",
        "\n",
        "    # Convertir el volumen de mL a L\n",
        "    volumen_litros = volumen_ml / 1000\n",
        "\n",
        "    return HA_conc, A_conc"
      ],
      "metadata": {
        "id": "eAlhC3TB-Aof"
      },
      "execution_count": 47,
      "outputs": []
    },
    {
      "cell_type": "markdown",
      "source": [
        "Ejemplo:\n",
        "\n",
        "Supongamos que queremos preparar un buffer de ácido acético/acetato con un pH de 4.75. Sabemos que el 𝐾𝑎 del ácido acético es 1.8×10−5. Queremos hacer 500 mL de esta solución buffer. Calcular la concentración de ácido y la base conjugada para la preparación de un buffer."
      ],
      "metadata": {
        "id": "1BhGO59W_mit"
      }
    },
    {
      "cell_type": "code",
      "source": [
        "# Datos del enunciado\n",
        "ph = 4.75       # pH deseado\n",
        "ka = 1.8e-5    # Constante de acidez para el ácido acético (CH3COOH)\n",
        "volumen_ml = 500  # Volumen en mL\n",
        "\n",
        "# Cálculo de la concentración de ácido y la base conjugada para la preparación de un buffer\n",
        "HA_conc, A_conc = calcular_concentraciones_buffer(ph, ka, volumen_ml)\n",
        "print(f'Concentración de ácido (HA): {HA_conc:.4f} M')\n",
        "print(f'Concentración de base conjugada (A-): {A_conc:.4f} M')"
      ],
      "metadata": {
        "id": "2OxaZcJL_m6K",
        "colab": {
          "base_uri": "https://localhost:8080/"
        },
        "outputId": "5143ec05-e736-4aef-8910-771dc5e4ad55"
      },
      "execution_count": 48,
      "outputs": [
        {
          "output_type": "stream",
          "name": "stdout",
          "text": [
            "Concentración de ácido (HA): 0.4970 M\n",
            "Concentración de base conjugada (A-): 0.5030 M\n"
          ]
        }
      ]
    },
    {
      "cell_type": "markdown",
      "source": [
        "# **Problema #5**"
      ],
      "metadata": {
        "id": "dESQLssZ_nzL"
      }
    },
    {
      "cell_type": "markdown",
      "source": [
        "Calcular la energía liberada en una Rx química .\n",
        "\n",
        "Parámetros:\n",
        "*   Moles reactivos\n",
        "*   ΔH de formación"
      ],
      "metadata": {
        "id": "da4NLaSn_yue"
      }
    },
    {
      "cell_type": "code",
      "source": [
        "def calcular_energia_liberada(moles, delta_H):\n",
        "    # Calcula la energía usando la fórmula ΔE = moles * ΔH\n",
        "    energia = moles * delta_H\n",
        "    return energia"
      ],
      "metadata": {
        "id": "76deEDTRAfYI"
      },
      "execution_count": 19,
      "outputs": []
    },
    {
      "cell_type": "markdown",
      "source": [
        "Ejemplo:\n",
        "\n",
        "Calcular la energía liberada en la combustión del metano (CH₄). La reacción de combustión completa es: CH₄ + 2 O₂ → CO₂ + 2 H₂O. Para esta reacción, el Δ𝐻 formación de CH₄ es aproximadamente −890.3 kJ/mol. Si tenemos 2 moles de metano, la energía liberada se calcularía de la siguiente manera:"
      ],
      "metadata": {
        "id": "c4FhEy6vApUC"
      }
    },
    {
      "cell_type": "code",
      "source": [
        "# Datos del enunciado\n",
        "moles = 2  # moles de reactivo\n",
        "delta_H = -890.3  # kJ/mol\n",
        "\n",
        "# Cálculo de la energía liberada\n",
        "energia_liberada = calcular_energia_liberada(moles, delta_H)\n",
        "print(f\"La energía liberada es: {energia_liberada} kJ\")"
      ],
      "metadata": {
        "id": "ZevCZPTkBBCv",
        "colab": {
          "base_uri": "https://localhost:8080/"
        },
        "outputId": "b6ff87f9-4081-4c8d-f173-a88609e9fd7f"
      },
      "execution_count": 26,
      "outputs": [
        {
          "output_type": "stream",
          "name": "stdout",
          "text": [
            "La energía liberada es: -1780.6 kJ\n"
          ]
        }
      ]
    },
    {
      "cell_type": "markdown",
      "source": [
        "# **Problema #6**"
      ],
      "metadata": {
        "id": "2E4SrS8ALORN"
      }
    },
    {
      "cell_type": "markdown",
      "source": [
        "Calcule el rendimiento porcentual.\n",
        "\n",
        "Parámetro:\n",
        "\n",
        "*   Masa teórica\n",
        "*   Masa experimental\n",
        "\n"
      ],
      "metadata": {
        "id": "IAg0crybLgOX"
      }
    },
    {
      "cell_type": "code",
      "source": [
        "def calcular_rendimiento_porcentual(masa_teorica, masa_exp):\n",
        "    if masa_teorica <= 0:\n",
        "        raise ValueError(\"La masa teórica debe ser mayor que cero.\")\n",
        "    rendimiento_porcentual = (masa_exp / masa_teorica) * 100\n",
        "    return rendimiento_porcentual"
      ],
      "metadata": {
        "id": "GDQkgjPjLs7y"
      },
      "execution_count": 27,
      "outputs": []
    },
    {
      "cell_type": "markdown",
      "source": [
        "Ejemplo:\n",
        "\n",
        "En una reacción de síntesis de amoníaco, se hicieron reaccionar 16.5 g de N₂ con H₂, obteniendo 2.05 g de NH3. El rendimiento teórico calculado fue de 20.1 g de NH3. Calcular el rendimiento porcentual de la reacción."
      ],
      "metadata": {
        "id": "toGQpuzMNpvQ"
      }
    },
    {
      "cell_type": "code",
      "source": [
        "# Datos del enunciado\n",
        "masa_teorica = 20.1  # gramos\n",
        "masa_exp = 2.05  # gramos\n",
        "\n",
        "# Cálculo del rendimiento  porcentual\n",
        "rendimiento = calcular_rendimiento_porcentual(masa_teorica, masa_exp)\n",
        "print(f\"El rendimiento porcentual es: {rendimiento:.2f}%\")"
      ],
      "metadata": {
        "colab": {
          "base_uri": "https://localhost:8080/"
        },
        "id": "S1xmyuCZQoH1",
        "outputId": "12d423ac-515b-4f99-fca5-077214985f74"
      },
      "execution_count": 28,
      "outputs": [
        {
          "output_type": "stream",
          "name": "stdout",
          "text": [
            "El rendimiento porcentual es: 10.20%\n"
          ]
        }
      ]
    },
    {
      "cell_type": "markdown",
      "source": [
        "# **Problema #7**"
      ],
      "metadata": {
        "id": "utYBWB2-Q-Yn"
      }
    },
    {
      "cell_type": "markdown",
      "source": [
        "Calcular el calor especifico de un metal.\n",
        "Parámetros:\n",
        "*   g = masa → del metal\n",
        "*   T = temperatura\n",
        "*   Calor especifico"
      ],
      "metadata": {
        "id": "MJLKY1bVRDm3"
      }
    },
    {
      "cell_type": "code",
      "source": [
        "def calcular_calor_especifico(Q, masa, temperatura_inicial, temperatura_final):\n",
        "     # Cambio de temperatura\n",
        "    delta_T = temperatura_final - temperatura_inicial\n",
        "    # Calor específico = Q / (masa * ΔT)\n",
        "    calor_especifico = Q / (masa * delta_T)\n",
        "    return calor_especifico"
      ],
      "metadata": {
        "id": "Xm4LgAZwR0Zr"
      },
      "execution_count": 32,
      "outputs": []
    },
    {
      "cell_type": "markdown",
      "source": [
        "Ejemplo:\n",
        "\n",
        "Se tiene una muestra de 150 gramos de un metal, la cual es calentada con 600 Joules de calor. La temperatura inicial del metal es de 20 °C y después de absorber el calor, su temperatura final es de 50 °C. ¿Cuál es el calor específico del metal?"
      ],
      "metadata": {
        "id": "uS5cB6V-SABk"
      }
    },
    {
      "cell_type": "code",
      "source": [
        "# Datos del enunciado\n",
        "Q = 600  # en Joules\n",
        "masa = 150  # en gramos\n",
        "temperatura_inicial = 20  # en °C\n",
        "temperatura_final = 50  # en °C\n",
        "\n",
        "# Cálculo del calor específico del metal\n",
        "calor_especifico = calcular_calor_especifico(Q, masa, temperatura_inicial, temperatura_final)\n",
        "print(f\"El calor específico del metal es: {calor_especifico} J/g·°C\")"
      ],
      "metadata": {
        "colab": {
          "base_uri": "https://localhost:8080/"
        },
        "id": "8qrcdaMESgdy",
        "outputId": "f801b154-c3db-45e4-8d7f-147780fc68aa"
      },
      "execution_count": 33,
      "outputs": [
        {
          "output_type": "stream",
          "name": "stdout",
          "text": [
            "El calor específico del metal es: 0.13333333333333333 J/g·°C\n"
          ]
        }
      ]
    },
    {
      "cell_type": "markdown",
      "source": [
        "# **Problema #8**"
      ],
      "metadata": {
        "id": "M2nsPwd2XxHX"
      }
    },
    {
      "cell_type": "markdown",
      "source": [
        "Calcular presión osmótica.\n",
        "\n",
        "Parámetros:\n",
        "*   25° C → K\n",
        "*   Concentración → g/L → Concentración Molar\n",
        "*   PM soluto\n",
        "*   Temperatura °C\n",
        "*   Utilizar R como constante\n"
      ],
      "metadata": {
        "id": "wZ8NaI61X2OE"
      }
    },
    {
      "cell_type": "code",
      "source": [
        "def calcular_presion_osmotica(concentracion_gL, pm_soluto, temperatura_C):\n",
        "    # Constante de gases en L·atm·K⁻¹·mol⁻¹\n",
        "    R = 0.0821\n",
        "\n",
        "    # Convertir la temperatura a Kelvin\n",
        "    temperatura_K = temperatura_C + 273.15\n",
        "\n",
        "    # Calcular la concentración molar (M) a partir de g/L y PM\n",
        "    molaridad = concentracion_gL / pm_soluto\n",
        "\n",
        "    # Calcular la presión osmótica\n",
        "    presion_osmotica = molaridad * R * temperatura_K\n",
        "    return presion_osmotica"
      ],
      "metadata": {
        "id": "uq2UiCY0Ybr2"
      },
      "execution_count": 34,
      "outputs": []
    },
    {
      "cell_type": "markdown",
      "source": [
        "Ejemplo:\n",
        "\n",
        "Calcula la presión osmótica de una disolución que contiene una concentracion 24 g/L de sacarosa (C12H22O11), a 25 ºC."
      ],
      "metadata": {
        "id": "jO3YvlHoZLBR"
      }
    },
    {
      "cell_type": "code",
      "source": [
        "# Datos del enunciado\n",
        "concentracion_gL = 24  # g/L\n",
        "pm_soluto = 342.30 # Masa molar de NaCl en g/mol, como ejemplo\n",
        "temperatura_C = 25  # grados Celsius\n",
        "\n",
        "# Calculó de la presión osmótica\n",
        "presion = calcular_presion_osmotica(concentracion_gL, pm_soluto, temperatura_C)\n",
        "print(f\"La presión osmótica es: {presion:.2f} atm\")"
      ],
      "metadata": {
        "colab": {
          "base_uri": "https://localhost:8080/"
        },
        "id": "Wlv4bOYMZlCC",
        "outputId": "28a831c4-580f-4d28-8348-c3444fcbf389"
      },
      "execution_count": 35,
      "outputs": [
        {
          "output_type": "stream",
          "name": "stdout",
          "text": [
            "La presión osmótica es: 1.72 atm\n"
          ]
        }
      ]
    },
    {
      "cell_type": "markdown",
      "source": [
        "# **Problema #9**"
      ],
      "metadata": {
        "id": "hugfYwlmc8ih"
      }
    },
    {
      "cell_type": "markdown",
      "source": [
        "Calcular el producto de solubilidad de una sal insoluble que calcule la solubilidad y regresar en Kps"
      ],
      "metadata": {
        "id": "1nwTG2dHdDpq"
      }
    },
    {
      "cell_type": "code",
      "source": [
        "def calcular_ksp(solubilidad):\n",
        "    if solubilidad < 0:\n",
        "        raise ValueError(\"La solubilidad no puede ser negativa.\")\n",
        "\n",
        "    # Calculo del Ksp\n",
        "    ksp = solubilidad ** 2  # Para la sal AB: Ksp = S^2\n",
        "    return ksp"
      ],
      "metadata": {
        "id": "iTuoMn6xf5Yb"
      },
      "execution_count": 41,
      "outputs": []
    },
    {
      "cell_type": "markdown",
      "source": [
        "Ejemplo:\n",
        "\n",
        "Para una sal AB cuya solubilidad en agua es de 1x10-3 mol/L. Calcular el producto de solubilidad de una sal insoluble (kps)"
      ],
      "metadata": {
        "id": "oxB8lejhf9aP"
      }
    },
    {
      "cell_type": "code",
      "source": [
        "# Datos del enunciado\n",
        "solubilidad_ejemplo = 0.001  # Sal en mol/L\n",
        "\n",
        "# Calculó del producto de solubilidad de una sal insoluble\n",
        "ksp_resultado = calcular_ksp(solubilidad_ejemplo)\n",
        "print(f'El producto de solubilidad Ksp es: {ksp_resultado:.5e}')"
      ],
      "metadata": {
        "colab": {
          "base_uri": "https://localhost:8080/"
        },
        "id": "iEfJHqY_f9qE",
        "outputId": "8a37cc9f-a2d3-41c6-b695-02c9dffe4f7c"
      },
      "execution_count": 42,
      "outputs": [
        {
          "output_type": "stream",
          "name": "stdout",
          "text": [
            "El producto de solubilidad Ksp es: 1.00000e-06\n"
          ]
        }
      ]
    },
    {
      "cell_type": "markdown",
      "source": [
        "# **Problema #10**\n",
        "Libre parametro: Realizar una grafica, utilizando numphy, panda o matloblit\n",
        "# *Grafica de La Relación entre pH y pOH con las Concentraciones de Ácido y Base en Soluciones Acuosas*"
      ],
      "metadata": {
        "id": "H9o-WtDYsWZX"
      }
    },
    {
      "cell_type": "code",
      "source": [
        "import numpy as np\n",
        "import matplotlib.pyplot as plt\n",
        "\n",
        "def calcular_pH(concentraciones_acido, concentraciones_base):\n",
        "\n",
        "    # Definir la constante de ionización del agua (Kw) a 25°C\n",
        "    Kw = 1e-14\n",
        "\n",
        "    # Calcular los valores de pH\n",
        "    pH = -np.log10(concentraciones_acido + np.sqrt(concentraciones_acido**2 + Kw))\n",
        "\n",
        "    # Calcular los valores de pOH para las bases\n",
        "    pOH = -np.log10(concentraciones_base + np.sqrt(concentraciones_base**2 + Kw))\n",
        "\n",
        "    # Graficar pH vs concentración de ácido\n",
        "    plt.figure(figsize=(10, 6))\n",
        "\n",
        "    plt.subplot(2, 1, 1)\n",
        "    plt.plot(concentraciones_acido, pH, label='pH de Ácido')\n",
        "    plt.xlabel('Concentración de Ácido (mol/L)')\n",
        "    plt.ylabel('pH')\n",
        "    plt.title('Gráfica de pH vs Concentración de Ácido')\n",
        "    plt.grid(True)\n",
        "    plt.legend()\n",
        "\n",
        "    # Graficar pOH vs concentración de base\n",
        "    plt.subplot(2, 1, 2)\n",
        "    plt.plot(concentraciones_base, pOH, label='pOH de Base', color='red')\n",
        "    plt.xlabel('Concentración de Base (mol/L)')\n",
        "    plt.ylabel('pOH')\n",
        "    plt.title('Gráfica de pOH vs Concentración de Base')\n",
        "    plt.grid(True)\n",
        "    plt.legend()\n",
        "\n",
        "    plt.tight_layout()\n",
        "    plt.show()\n",
        "\n",
        "    return pH, pOH\n",
        "\n",
        "concentraciones_acido = np.logspace(-7, -1, 100)  # Concentraciones de ácido (mol/L)\n",
        "concentraciones_base = np.logspace(-7, -1, 100)   # Concentraciones de base (mol/L)\n",
        "\n",
        "pH, pOH = calcular_pH(concentraciones_acido, concentraciones_base)"
      ],
      "metadata": {
        "colab": {
          "base_uri": "https://localhost:8080/",
          "height": 607
        },
        "id": "FSd2rrwysbIV",
        "outputId": "3d132080-86ad-4f69-bba7-5aff0cd8b189"
      },
      "execution_count": 53,
      "outputs": [
        {
          "output_type": "display_data",
          "data": {
            "text/plain": [
              "<Figure size 1000x600 with 2 Axes>"
            ],
            "image/png": "[encoded data removed]"
          },
          "metadata": {}
        }
      ]
    }
  ]
}