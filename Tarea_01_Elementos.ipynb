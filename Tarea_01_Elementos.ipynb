{
  "nbformat": 4,
  "nbformat_minor": 0,
  "metadata": {
    "colab": {
      "provenance": [],
      "authorship_tag": "ABX9TyPprR7ZhIZN36UUdRBYPou3",
      "include_colab_link": true
    },
    "kernelspec": {
      "name": "python3",
      "display_name": "Python 3"
    },
    "language_info": {
      "name": "python"
    }
  },
  "cells": [
    {
      "cell_type": "markdown",
      "metadata": {
        "id": "view-in-github",
        "colab_type": "text"
      },
      "source": [
        "<a href=\"https://colab.research.google.com/github/laura-pitti/QM206-2024S/blob/main/Tarea_01_Elementos.ipynb\" target=\"_parent\"><img src=\"https://colab.research.google.com/assets/colab-badge.svg\" alt=\"Open In Colab\"/></a>"
      ]
    },
    {
      "cell_type": "code",
      "execution_count": null,
      "metadata": {
        "colab": {
          "base_uri": "https://localhost:8080/"
        },
        "id": "poVuKZUntw3q",
        "outputId": "7f298660-db6c-4c7b-86d6-c7ba03e51da8"
      },
      "outputs": [
        {
          "output_type": "stream",
          "name": "stdout",
          "text": [
            "[{'simbolo': 'H', 'NA': '1', 'masa': 1.008}, {'simbolo': 'He', 'NA': '2', 'masa': 4.003}, {'simbolo': 'Li', 'NA': '3', 'masa': 6.94}, {'simbolo': 'Be', 'NA': '4', 'masa': 9.012}, {'simbolo': 'B', 'NA': '5', 'masa': 10.81}, {'simbolo': 'C', 'NA': '6', 'masa': 12.01}, {'simbolo': 'N', 'NA': '7', 'masa': 14.01}, {'simbolo': 'O', 'NA': '8', 'masa': 16.0}, {'simbolo': 'F', 'NA': '9', 'masa': 19.0}, {'simbolo': 'Ne', 'NA': '10', 'masa': 20.18}, {'simbolo': 'Na', 'NA': '11', 'masa': 22.99}, {'simbolo': 'Mg', 'NA': '12', 'masa': 24.3}, {'simbolo': 'Al', 'NA': '13', 'masa': 26.98}, {'simbolo': 'Si', 'NA': '14', 'masa': 28.08}, {'simbolo': 'P', 'NA': '15', 'masa': 30.97}, {'simbolo': 'S', 'NA': '16', 'masa': 32.06}, {'simbolo': 'Cl', 'NA': '17', 'masa': 35.45}, {'simbolo': 'Ar', 'NA': '18', 'masa': 39.95}, {'simbolo': 'K', 'NA': '19', 'masa': 39.1}, {'simbolo': 'Ca', 'NA': '20', 'masa': 40.08}]\n"
          ]
        }
      ],
      "source": [
        "elementos=[]\n",
        "elem={\"simbolo\":\"H\",\"NA\":\"1\",\"masa\":1.008}\n",
        "elementos.append(elem)\n",
        "elem={\"simbolo\":\"He\",\"NA\":\"2\",\"masa\":4.003}\n",
        "elementos.append(elem)\n",
        "elem={\"simbolo\":\"Li\",\"NA\":\"3\",\"masa\":6.940}\n",
        "elementos.append(elem)\n",
        "elem={\"simbolo\":\"Be\",\"NA\":\"4\",\"masa\":9.012}\n",
        "elementos.append(elem)\n",
        "elem={\"simbolo\":\"B\",\"NA\":\"5\",\"masa\":10.81}\n",
        "elementos.append(elem)\n",
        "elem={\"simbolo\":\"C\",\"NA\":\"6\",\"masa\":12.01}\n",
        "elementos.append(elem)\n",
        "elem={\"simbolo\":\"N\",\"NA\":\"7\",\"masa\":14.01}\n",
        "elementos.append(elem)\n",
        "elem={\"simbolo\":\"O\",\"NA\":\"8\",\"masa\":16.00}\n",
        "elementos.append(elem)\n",
        "elem={\"simbolo\":\"F\",\"NA\":\"9\",\"masa\":19.00}\n",
        "elementos.append(elem)\n",
        "elem={\"simbolo\":\"Ne\",\"NA\":\"10\",\"masa\":20.18}\n",
        "elementos.append(elem)\n",
        "elem={\"simbolo\":\"Na\",\"NA\":\"11\",\"masa\":22.99}\n",
        "elementos.append(elem)\n",
        "elem={\"simbolo\":\"Mg\",\"NA\":\"12\",\"masa\":24.30}\n",
        "elementos.append(elem)\n",
        "elem={\"simbolo\":\"Al\",\"NA\":\"13\",\"masa\":26.98}\n",
        "elementos.append(elem)\n",
        "elem={\"simbolo\":\"Si\",\"NA\":\"14\",\"masa\":28.08}\n",
        "elementos.append(elem)\n",
        "elem={\"simbolo\":\"P\",\"NA\":\"15\",\"masa\":30.97}\n",
        "elementos.append(elem)\n",
        "elem={\"simbolo\":\"S\",\"NA\":\"16\",\"masa\":32.06}\n",
        "elementos.append(elem)\n",
        "elem={\"simbolo\":\"Cl\",\"NA\":\"17\",\"masa\":35.45}\n",
        "elementos.append(elem)\n",
        "elem={\"simbolo\":\"Ar\",\"NA\":\"18\",\"masa\":39.95}\n",
        "elementos.append(elem)\n",
        "elem={\"simbolo\":\"K\",\"NA\":\"19\",\"masa\":39.10}\n",
        "elementos.append(elem)\n",
        "elem={\"simbolo\":\"Ca\",\"NA\":\"20\",\"masa\":40.08}\n",
        "elementos.append(elem)\n",
        "print(elementos)"
      ]
    }
  ]
}